{
 "cells": [
  {
   "cell_type": "code",
   "execution_count": 1,
   "metadata": {},
   "outputs": [],
   "source": [
    "%load_ext autoreload\n",
    "%autoreload 2"
   ]
  },
  {
   "cell_type": "code",
   "execution_count": 2,
   "metadata": {},
   "outputs": [],
   "source": [
    "# %env CUDA_DEVICE_ORDER=PCI_BUS_ID\n",
    "# %env CUDA_VISIBLE_DEVICES=1"
   ]
  },
  {
   "cell_type": "code",
   "execution_count": 3,
   "metadata": {},
   "outputs": [],
   "source": [
    "import sys\n",
    "import time\n",
    "from functools import partial \n",
    "from collections import defaultdict\n",
    "\n",
    "import jax\n",
    "import jax.numpy as np\n",
    "from jax import grad, jit, vmap, value_and_grad\n",
    "from jax import random\n",
    "from jax.scipy.special import logsumexp\n",
    "from jax.experimental import optimizers\n",
    "from jax.experimental import stax\n",
    "from jax.experimental.stax import (BatchNorm, Conv, Dense, Flatten,\n",
    "                                   Relu, LogSoftmax)"
   ]
  },
  {
   "cell_type": "code",
   "execution_count": 4,
   "metadata": {},
   "outputs": [],
   "source": [
    "import modules.utils\n",
    "import modules.datasets"
   ]
  },
  {
   "cell_type": "markdown",
   "metadata": {},
   "source": [
    "# Find GPU Devices"
   ]
  },
  {
   "cell_type": "code",
   "execution_count": 5,
   "metadata": {},
   "outputs": [
    {
     "data": {
      "text/plain": [
       "[GpuDevice(id=0), GpuDevice(id=1)]"
      ]
     },
     "execution_count": 5,
     "metadata": {},
     "output_type": "execute_result"
    }
   ],
   "source": [
    "gpus = jax.devices('gpu')\n",
    "gpus"
   ]
  },
  {
   "cell_type": "markdown",
   "metadata": {},
   "source": [
    "# Random Seed"
   ]
  },
  {
   "cell_type": "code",
   "execution_count": 6,
   "metadata": {},
   "outputs": [],
   "source": [
    "random_key = random.PRNGKey(42)"
   ]
  },
  {
   "cell_type": "markdown",
   "metadata": {},
   "source": [
    "# Data Handler"
   ]
  },
  {
   "cell_type": "code",
   "execution_count": 7,
   "metadata": {},
   "outputs": [],
   "source": [
    "_BATCH_SIZE = 256"
   ]
  },
  {
   "cell_type": "code",
   "execution_count": 8,
   "metadata": {},
   "outputs": [
    {
     "name": "stdout",
     "output_type": "stream",
     "text": [
      "Files already downloaded and verified\n",
      "(256, 3, 32, 32) (256, 10)\n"
     ]
    },
    {
     "data": {
      "image/png": "[encoded data removed]",
      "text/plain": [
       "<Figure size 864x864 with 5 Axes>"
      ]
     },
     "metadata": {
      "needs_background": "light"
     },
     "output_type": "display_data"
    }
   ],
   "source": [
    "datahandler_key = 'pytorch' # 'pytorch', 'tensorflow'\n",
    "\n",
    "base_params = {\n",
    "    \"download_dir\" : \"/tmp/dataset\",\n",
    "    \"dataset_name\" : \"CIFAR10\", # options: MNIST, CIFAR10\n",
    "    \"batch_size\"   : _BATCH_SIZE,\n",
    "    \"flatten_img\"  : False,\n",
    "    \"onehot_label\" : True\n",
    "}\n",
    "data_handler = modules.datasets.BuildDataHandler(datahandler_key, **base_params)\n",
    "\n",
    "for x, y in data_handler('train'):\n",
    "    print(x.shape, y.shape)\n",
    "    break\n",
    "    \n",
    "modules.utils.show_samples(data_handler, 5)"
   ]
  },
  {
   "cell_type": "markdown",
   "metadata": {},
   "source": [
    "# Model - Convolutional Neural Network\n",
    "\n",
    "We could continue in a similar low-level manner for building out CNNs as we have for the MLP, where we initialize kernels and setup the convolution operations using [`jax.lax.conv_general_dilated`](https://jax.readthedocs.io/en/test-docs/_autosummary/jax.lax.conv_general_dilated.html). However, as in Pytorch, Keras, and more recent versions of TF, JAX has an api for building models sequential with abstracted layers (Conv, Dense, etc.):  [`jax.experimental.stax.serial`](https://jax.readthedocs.io/en/latest/jax.experimental.stax.html)\n",
    "\n",
    "Constructing the model this way yields two objects, the initialization function, `init_fun`, and the update function, `conv_net` (aka our feedforward pass). Read more [here](https://jax.readthedocs.io/en/latest/jax.experimental.stax.html#jax.experimental.stax.serial).\n",
    "\n",
    "Only minimal changes are required to our MLP code, and our structure follows:\n",
    "1. Network Initialization + Forward Pass\n",
    "2. Loss Function\n",
    "3. Backward Pass\n",
    "4. Evaluation"
   ]
  },
  {
   "cell_type": "markdown",
   "metadata": {},
   "source": [
    "## Fxn 1: Network Initialization + Forward Pass"
   ]
  },
  {
   "cell_type": "code",
   "execution_count": 20,
   "metadata": {},
   "outputs": [],
   "source": [
    "def initialize_params(random_key, batch_size, num_classes, img_dim):\n",
    "    init_fun, conv_net = stax.serial(\n",
    "        Conv(32, (5, 5), (2, 2), padding=\"SAME\"),\n",
    "        BatchNorm(), Relu,\n",
    "        Conv(32, (5, 5), (2, 2), padding=\"SAME\"),\n",
    "        BatchNorm(), Relu,\n",
    "        Conv(10, (3, 3), (2, 2), padding=\"SAME\"),\n",
    "        BatchNorm(), Relu,\n",
    "        Conv(10, (3, 3), (2, 2), padding=\"SAME\"), Relu,\n",
    "        Flatten,\n",
    "        Dense(num_classes),\n",
    "        LogSoftmax\n",
    "    )\n",
    "\n",
    "    _, params = init_fun(random_key, (batch_size, *img_dim))\n",
    "    return conv_net, params"
   ]
  },
  {
   "cell_type": "markdown",
   "metadata": {},
   "source": [
    "## Fxn Set 2: Loss"
   ]
  },
  {
   "cell_type": "code",
   "execution_count": 15,
   "metadata": {},
   "outputs": [],
   "source": [
    "def loss_fxn(params, images, targets):\n",
    "    preds = conv_net(params, images)\n",
    "    return -np.mean(preds * targets)"
   ]
  },
  {
   "cell_type": "markdown",
   "metadata": {},
   "source": [
    "## Fxn Set 3: Backward Pass Update"
   ]
  },
  {
   "cell_type": "code",
   "execution_count": 16,
   "metadata": {},
   "outputs": [],
   "source": [
    "@jit\n",
    "def update(params, x, y, opt_state):\n",
    "    \"\"\" Compute the gradient for a batch and update the parameters \"\"\"\n",
    "    value, grads = value_and_grad(loss_fxn)(params, x, y)\n",
    "    opt_state = opt_update(0, grads, opt_state)\n",
    "    return get_params(opt_state), opt_state, value"
   ]
  },
  {
   "cell_type": "markdown",
   "metadata": {},
   "source": [
    "## Fxn Set 4: Evaluation"
   ]
  },
  {
   "cell_type": "code",
   "execution_count": 17,
   "metadata": {},
   "outputs": [],
   "source": [
    "def accuracy(conv_net, params, data_handler, dataset_key):\n",
    "    \"\"\" Compute the accuracy for a provided dataloader \"\"\"\n",
    "    n_batches = data_handler.num_batches(dataset_key)\n",
    "    acc_total = 0\n",
    "    for batch_idx, (images, targets) in enumerate(data_handler(dataset_key)):\n",
    "        # Stdout\n",
    "        sys.stdout.write(f'\\r\\tEvaluating {dataset_key} set | Batch {batch_idx+1}/{n_batches}...')\n",
    "        sys.stdout.flush()\n",
    "        \n",
    "        # Compute target class\n",
    "        target_class = np.argmax(targets, axis=1)\n",
    "        \n",
    "        # Model Inference\n",
    "        predicted_class = np.argmax(conv_net(params, images), axis=1)\n",
    "        \n",
    "        # Aggregate\n",
    "        acc_total += np.sum(predicted_class == target_class)\n",
    "    return acc_total / data_handler.size(dataset_key)\n",
    "\n",
    "def evaluate(step_i, conv_net, params, data_handler, accuracies):\n",
    "    print(\"\\nEvaluation Phase.\")\n",
    "    for dataset_key in ['train', 'test']:\n",
    "        acc = accuracy(conv_net, params, data_handler, dataset_key) \n",
    "        accuracies[dataset_key].append((step_i, acc))\n",
    "    print(\"\\n\")"
   ]
  },
  {
   "cell_type": "markdown",
   "metadata": {},
   "source": [
    "# Training Loop"
   ]
  },
  {
   "cell_type": "code",
   "execution_count": 18,
   "metadata": {},
   "outputs": [],
   "source": [
    "def run_training_loop(data_handler, n_epochs, conv_net, opt_state, eval_freq):\n",
    "    \"\"\" Implements a learning loop over epochs. \"\"\"\n",
    "    # Metric containers\n",
    "    accuracies = defaultdict(list)\n",
    "    train_loss = []\n",
    "    \n",
    "    # Get the initial set of parameters \n",
    "    params = get_params(opt_state)\n",
    "    \n",
    "    # Init evaluation\n",
    "    evaluate(0, conv_net, params, data_handler, accuracies)\n",
    "    \n",
    "    # Compute num train batches\n",
    "    n_train_batches = data_handler.num_batches('train')\n",
    "    \n",
    "    # Loop over the training epochs\n",
    "    for epoch_i in range(n_epochs):\n",
    "        print(\"Training Phase.\")\n",
    "        for batch_i, (data, target) in enumerate(data_handler('train')):\n",
    "            \n",
    "            # Forward pass + Backprop \n",
    "            params, opt_state, loss_val = update(params, data, target, opt_state)\n",
    "            \n",
    "            # Update loss container\n",
    "            train_loss.append((epoch_i*n_train_batches+batch_i, loss_val))\n",
    "            \n",
    "            # Stdout\n",
    "            stdout_str = f\"\\r\\tEpoch {epoch_i+1}/{n_epochs} -- \"\n",
    "            stdout_str += f\"Batch {batch_i}/{n_train_batches} -- Loss: {loss_val:0.2f}...\"\n",
    "            sys.stdout.write(stdout_str)\n",
    "            sys.stdout.flush()\n",
    "        \n",
    "        # Evaluate\n",
    "        if (epoch_i+1) % eval_freq == 0:\n",
    "            evaluate(epoch_i, conv_net, params, data_handler, accuracies)\n",
    "    \n",
    "    return train_loss, accuracies"
   ]
  },
  {
   "cell_type": "code",
   "execution_count": 19,
   "metadata": {},
   "outputs": [
    {
     "name": "stdout",
     "output_type": "stream",
     "text": [
      "\n",
      "Evaluation Phase.\n",
      "\tEvaluating test set | Batch 40/40......\n",
      "\n",
      "Training Phase.\n",
      "\tEpoch 1/10 -- Batch 195/196 -- Loss: 0.16...\n",
      "Evaluation Phase.\n",
      "\tEvaluating test set | Batch 40/40......\n",
      "\n",
      "Training Phase.\n",
      "\tEpoch 2/10 -- Batch 195/196 -- Loss: 0.13...\n",
      "Evaluation Phase.\n",
      "\tEvaluating test set | Batch 40/40......\n",
      "\n",
      "Training Phase.\n",
      "\tEpoch 3/10 -- Batch 195/196 -- Loss: 0.13...\n",
      "Evaluation Phase.\n",
      "\tEvaluating test set | Batch 40/40......\n",
      "\n",
      "Training Phase.\n",
      "\tEpoch 4/10 -- Batch 195/196 -- Loss: 0.14...\n",
      "Evaluation Phase.\n",
      "\tEvaluating test set | Batch 40/40......\n",
      "\n",
      "Training Phase.\n",
      "\tEpoch 5/10 -- Batch 195/196 -- Loss: 0.13...\n",
      "Evaluation Phase.\n",
      "\tEvaluating test set | Batch 40/40......\n",
      "\n",
      "Training Phase.\n",
      "\tEpoch 6/10 -- Batch 195/196 -- Loss: 0.12...\n",
      "Evaluation Phase.\n",
      "\tEvaluating test set | Batch 40/40......\n",
      "\n",
      "Training Phase.\n",
      "\tEpoch 7/10 -- Batch 195/196 -- Loss: 0.12...\n",
      "Evaluation Phase.\n",
      "\tEvaluating test set | Batch 40/40......\n",
      "\n",
      "Training Phase.\n",
      "\tEpoch 8/10 -- Batch 195/196 -- Loss: 0.12...\n",
      "Evaluation Phase.\n",
      "\tEvaluating test set | Batch 40/40......\n",
      "\n",
      "Training Phase.\n",
      "\tEpoch 9/10 -- Batch 195/196 -- Loss: 0.11...\n",
      "Evaluation Phase.\n",
      "\tEvaluating test set | Batch 40/40......\n",
      "\n",
      "Training Phase.\n",
      "\tEpoch 10/10 -- Batch 195/196 -- Loss: 0.13...\n",
      "Evaluation Phase.\n",
      "\tEvaluating test set | Batch 40/40......\n",
      "\n"
     ]
    }
   ],
   "source": [
    "_N_EPOCHS = 10\n",
    "_EVAL_FREQ = 1\n",
    "_LEARNING_RATE = 1e-3\n",
    "\n",
    "# Initialize the conv net\n",
    "# Set global for loss_fxn to have access - cannot pass conv_net through \n",
    "# If you find a better way, please let me know!\n",
    "global conv_net\n",
    "conv_net, params = initialize_params(random_key, _BATCH_SIZE, data_handler.num_classes, data_handler.img_dim)\n",
    "\n",
    "# Place on device\n",
    "jax.device_put(params, device=gpus[0])\n",
    "\n",
    "# Defining an optimizer in Jax\n",
    "opt_init, opt_update, get_params = optimizers.adam(_LEARNING_RATE)\n",
    "opt_state = opt_init(params)\n",
    "\n",
    "train_loss, accuracies = run_training_loop(data_handler,\n",
    "                                           _N_EPOCHS,\n",
    "                                           conv_net,\n",
    "                                           opt_state,\n",
    "                                           _EVAL_FREQ)"
   ]
  },
  {
   "cell_type": "code",
   "execution_count": 21,
   "metadata": {},
   "outputs": [
    {
     "data": {
      "image/png": "[encoded data removed]",
      "text/plain": [
       "<Figure size 1296x288 with 2 Axes>"
      ]
     },
     "metadata": {
      "needs_background": "light"
     },
     "output_type": "display_data"
    }
   ],
   "source": [
    "modules.utils.plot_metrics(train_loss, accuracies)"
   ]
  }
 ],
 "metadata": {
  "kernelspec": {
   "display_name": "Python 3",
   "language": "python",
   "name": "python3"
  },
  "language_info": {
   "codemirror_mode": {
    "name": "ipython",
    "version": 3
   },
   "file_extension": ".py",
   "mimetype": "text/x-python",
   "name": "python",
   "nbconvert_exporter": "python",
   "pygments_lexer": "ipython3",
   "version": "3.7.7"
  }
 },
 "nbformat": 4,
 "nbformat_minor": 4
}
