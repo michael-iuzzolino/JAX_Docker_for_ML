{
 "cells": [
  {
   "cell_type": "code",
   "execution_count": 1,
   "metadata": {},
   "outputs": [],
   "source": [
    "%load_ext autoreload\n",
    "%autoreload 2"
   ]
  },
  {
   "cell_type": "code",
   "execution_count": 2,
   "metadata": {},
   "outputs": [],
   "source": [
    "# %env CUDA_DEVICE_ORDER=PCI_BUS_ID\n",
    "# %env CUDA_VISIBLE_DEVICES=1"
   ]
  },
  {
   "cell_type": "code",
   "execution_count": 3,
   "metadata": {},
   "outputs": [],
   "source": [
    "import sys\n",
    "import time\n",
    "from collections import defaultdict\n",
    "\n",
    "import jax\n",
    "import jax.numpy as np\n",
    "from jax import grad, jit, vmap, value_and_grad\n",
    "from jax import random\n",
    "from jax.scipy.special import logsumexp\n",
    "from jax.experimental import optimizers"
   ]
  },
  {
   "cell_type": "code",
   "execution_count": 4,
   "metadata": {},
   "outputs": [],
   "source": [
    "import modules.utils\n",
    "import modules.datasets"
   ]
  },
  {
   "cell_type": "markdown",
   "metadata": {},
   "source": [
    "# Find GPU Devices"
   ]
  },
  {
   "cell_type": "code",
   "execution_count": 5,
   "metadata": {},
   "outputs": [
    {
     "data": {
      "text/plain": [
       "[GpuDevice(id=0), GpuDevice(id=1)]"
      ]
     },
     "execution_count": 5,
     "metadata": {},
     "output_type": "execute_result"
    }
   ],
   "source": [
    "gpus = jax.devices('gpu')\n",
    "gpus"
   ]
  },
  {
   "cell_type": "markdown",
   "metadata": {},
   "source": [
    "# Random Seed"
   ]
  },
  {
   "cell_type": "code",
   "execution_count": 6,
   "metadata": {},
   "outputs": [],
   "source": [
    "random_key = random.PRNGKey(42)"
   ]
  },
  {
   "cell_type": "markdown",
   "metadata": {},
   "source": [
    "# Data Handler"
   ]
  },
  {
   "cell_type": "code",
   "execution_count": 7,
   "metadata": {},
   "outputs": [],
   "source": [
    "_BATCH_SIZE = 256"
   ]
  },
  {
   "cell_type": "code",
   "execution_count": 8,
   "metadata": {},
   "outputs": [
    {
     "name": "stdout",
     "output_type": "stream",
     "text": [
      "(256, 784) (256, 10)\n"
     ]
    },
    {
     "data": {
      "image/png": "[encoded data removed]",
      "text/plain": [
       "<Figure size 864x864 with 5 Axes>"
      ]
     },
     "metadata": {
      "needs_background": "light"
     },
     "output_type": "display_data"
    }
   ],
   "source": [
    "datahandler_key = 'tensorflow' # 'pytorch', 'tensorflow'\n",
    "\n",
    "base_params = {\n",
    "    \"download_dir\" : \"/tmp/dataset\",\n",
    "    \"dataset_name\" : \"MNIST\", # options: MNIST, CIFAR10\n",
    "    \"batch_size\"   : _BATCH_SIZE,\n",
    "    \"flatten_img\"  : True,\n",
    "    \"onehot_label\" : True\n",
    "}\n",
    "data_handler = modules.datasets.BuildDataHandler(datahandler_key, **base_params)\n",
    "\n",
    "for x, y in data_handler('train'):\n",
    "    print(x.shape, y.shape)\n",
    "    break\n",
    "    \n",
    "modules.utils.show_samples(data_handler, 5)"
   ]
  },
  {
   "cell_type": "markdown",
   "metadata": {},
   "source": [
    "# Model - Multi-Layer Perceptron\n",
    "\n",
    "Model construction in JAX differs significantly from PyTorch in that we cannot use classes; JAX is built around functional programming, so we must build everything using pure functions. The functional components of a JAX model can be grouped into:\n",
    "1. Network Initialization\n",
    "2. Forward Pass\n",
    "3. Loss Function\n",
    "4. Backward Pass\n",
    "5. Evaluation"
   ]
  },
  {
   "cell_type": "markdown",
   "metadata": {},
   "source": [
    "## Fxn 1: Network Initialization"
   ]
  },
  {
   "cell_type": "code",
   "execution_count": 9,
   "metadata": {},
   "outputs": [],
   "source": [
    "def initialize_params(layers, random_key):\n",
    "    # Split off one key per layer\n",
    "    layer_keys = random.split(random_key, len(layers))\n",
    "    \n",
    "    # Initialize a single layer with Gaussian weights -  helper function\n",
    "    def initialize_layer(m, n, rand_key, scale=1e-2):\n",
    "        W_key, b_key = random.split(rand_key)\n",
    "        return scale * random.normal(W_key, (n, m)), scale * random.normal(b_key, (n,))\n",
    "    \n",
    "    return [initialize_layer(m, n, k) for m, n, k in zip(layers[:-1], layers[1:], layer_keys)]"
   ]
  },
  {
   "cell_type": "markdown",
   "metadata": {},
   "source": [
    "## Fxn 2: Forward Pass"
   ]
  },
  {
   "cell_type": "code",
   "execution_count": 10,
   "metadata": {},
   "outputs": [],
   "source": [
    "def ReLU(x):\n",
    "    \"\"\" Rectified Linear Unit (ReLU) activation function \"\"\"\n",
    "    return np.maximum(0, x)\n",
    "\n",
    "def forward_pass(params, X):\n",
    "    \"\"\" Compute the forward pass for each example individually \"\"\"\n",
    "    activations = X\n",
    "    \n",
    "    # Loop over the ReLU hidden layers\n",
    "    for W, b in params[:-1]:\n",
    "        z = np.dot(W, activations) + b\n",
    "        activations = ReLU(z)\n",
    "    \n",
    "    # Perform final trafo to logits\n",
    "    final_W, final_b = params[-1]\n",
    "    logits = np.dot(final_W, activations) + final_b\n",
    "    return logits - logsumexp(logits)"
   ]
  },
  {
   "cell_type": "markdown",
   "metadata": {},
   "source": [
    "### Note\n",
    "You may be asking yourself, what's up with the `logits - logsumexp(logits)`? \n",
    "\n",
    "**tl;dr** this is done for numerical stability -- specifically, it avoids both underflow and overflow.\n",
    "\n",
    "At this level in JAX, we have to take care of it whereas Pytorch and Tensorflow take care of this for you, such as in `tf.softmax_cross_entropy_with_logits_v2`; see source code [here](https://github.com/tensorflow/tensorflow/blob/2b96f3662bd776e277f86997659e61046b56c315/tensorflow/python/ops/nn_ops.py#L3161-L3219).\n",
    "\n",
    "See this [stack overflow discussion](https://stackoverflow.com/questions/42599498/numercially-stable-softmax) for more detail."
   ]
  },
  {
   "cell_type": "markdown",
   "metadata": {},
   "source": [
    "## Fxn Set 3: Loss"
   ]
  },
  {
   "cell_type": "code",
   "execution_count": 11,
   "metadata": {},
   "outputs": [],
   "source": [
    "def loss_fxn(params, in_arrays, targets):\n",
    "    \"\"\" Compute the multi-class cross-entropy loss \"\"\"\n",
    "    preds = batch_forward(params, in_arrays)\n",
    "    return -np.mean(preds * targets)"
   ]
  },
  {
   "cell_type": "markdown",
   "metadata": {},
   "source": [
    "## Fxn Set 4: Backward Pass Update"
   ]
  },
  {
   "cell_type": "code",
   "execution_count": 12,
   "metadata": {},
   "outputs": [],
   "source": [
    "@jit\n",
    "def update(params, x, y, opt_state):\n",
    "    \"\"\" Compute the gradient for a batch and update the parameters \"\"\"\n",
    "    value, grads = value_and_grad(loss_fxn)(params, x, y)\n",
    "    opt_state = opt_update(0, grads, opt_state)\n",
    "    return get_params(opt_state), opt_state, value"
   ]
  },
  {
   "cell_type": "markdown",
   "metadata": {},
   "source": [
    "## Fxn Set 5: Evaluation"
   ]
  },
  {
   "cell_type": "code",
   "execution_count": 13,
   "metadata": {},
   "outputs": [],
   "source": [
    "def accuracy(params, data_handler, dataset_key):\n",
    "    \"\"\" Compute the accuracy for a provided dataloader \"\"\"\n",
    "    n_batches = data_handler.num_batches(dataset_key)\n",
    "    acc_total = 0\n",
    "    for batch_idx, (images, targets) in enumerate(data_handler(dataset_key)):\n",
    "        # Stdout\n",
    "        sys.stdout.write(f'\\r\\tEvaluating {dataset_key} set | Batch {batch_idx+1}/{n_batches}...')\n",
    "        sys.stdout.flush()\n",
    "        \n",
    "        # Compute target class\n",
    "        target_class = np.argmax(targets, axis=1)\n",
    "        \n",
    "        # Model Inference\n",
    "        predicted_class = np.argmax(batch_forward(params, images), axis=1)\n",
    "        \n",
    "        # Aggregate\n",
    "        acc_total += np.sum(predicted_class == target_class)\n",
    "    return acc_total / data_handler.size(dataset_key)\n",
    "\n",
    "def evaluate(step_i, params, data_handler, accuracies):\n",
    "    print(\"\\nEvaluation Phase.\")\n",
    "    for dataset_key in ['train', 'test']:\n",
    "        acc = accuracy(params, data_handler, dataset_key) \n",
    "        accuracies[dataset_key].append((step_i, acc))\n",
    "    print(\"\\n\")"
   ]
  },
  {
   "cell_type": "markdown",
   "metadata": {},
   "source": [
    "# Training Loop"
   ]
  },
  {
   "cell_type": "code",
   "execution_count": 17,
   "metadata": {},
   "outputs": [],
   "source": [
    "def run_training_loop(data_handler, n_epochs, opt_state, eval_freq):\n",
    "    \"\"\" Implements a learning loop over epochs. \"\"\"\n",
    "    # Metric containers\n",
    "    accuracies = defaultdict(list)\n",
    "    train_loss = []\n",
    "    \n",
    "    # Get the initial set of parameters \n",
    "    params = get_params(opt_state)\n",
    "    \n",
    "    # Init evaluation\n",
    "    evaluate(0, params, data_handler, accuracies)\n",
    "    \n",
    "    # Compute num train batches\n",
    "    n_train_batches = data_handler.num_batches('train')\n",
    "    \n",
    "    # Loop over the training epochs\n",
    "    for epoch_i in range(n_epochs):\n",
    "        print(\"Training Phase.\")\n",
    "        for batch_i, (data, target) in enumerate(data_handler('train')):\n",
    "            # Forward pass + Backprop\n",
    "            params, opt_state, loss_val = update(params, data, target, opt_state)\n",
    "            \n",
    "            # Update loss container\n",
    "            train_loss.append((epoch_i*n_train_batches+batch_i, loss_val))\n",
    "            \n",
    "            # Stdout\n",
    "            stdout_str = f\"\\r\\tEpoch {epoch_i+1}/{n_epochs} -- \"\n",
    "            stdout_str += f\"Batch {batch_i}/{n_train_batches} -- Loss: {loss_val:0.2f}...\"\n",
    "            sys.stdout.write(stdout_str)\n",
    "            sys.stdout.flush()\n",
    "        \n",
    "        # Evaluate\n",
    "        if (epoch_i+1) % eval_freq == 0:\n",
    "            evaluate(epoch_i, params, data_handler, accuracies)\n",
    "    \n",
    "    return train_loss, accuracies"
   ]
  },
  {
   "cell_type": "code",
   "execution_count": 18,
   "metadata": {},
   "outputs": [
    {
     "name": "stdout",
     "output_type": "stream",
     "text": [
      "\n",
      "Evaluation Phase.\n",
      "\tEvaluating test set | Batch 40/40......\n",
      "\n",
      "Training Phase.\n",
      "\tEpoch 1/5 -- Batch 234/235 -- Loss: 0.04...\n",
      "Evaluation Phase.\n",
      "\tEvaluating test set | Batch 40/40......\n",
      "\n",
      "Training Phase.\n",
      "\tEpoch 2/5 -- Batch 234/235 -- Loss: 0.03...\n",
      "Evaluation Phase.\n",
      "\tEvaluating test set | Batch 40/40......\n",
      "\n",
      "Training Phase.\n",
      "\tEpoch 3/5 -- Batch 234/235 -- Loss: 0.03...\n",
      "Evaluation Phase.\n",
      "\tEvaluating test set | Batch 40/40......\n",
      "\n",
      "Training Phase.\n",
      "\tEpoch 4/5 -- Batch 234/235 -- Loss: 0.02...\n",
      "Evaluation Phase.\n",
      "\tEvaluating test set | Batch 40/40......\n",
      "\n",
      "Training Phase.\n",
      "\tEpoch 5/5 -- Batch 234/235 -- Loss: 0.02...\n",
      "Evaluation Phase.\n",
      "\tEvaluating test set | Batch 40/40......\n",
      "\n"
     ]
    }
   ],
   "source": [
    "_N_EPOCHS = 5\n",
    "_EVAL_FREQ = 1\n",
    "_MLP_LAYERS = [784, 8, 10]\n",
    "_LEARNING_RATE = 1e-3\n",
    "\n",
    "# Return a list of tuples of layer weights\n",
    "model = initialize_params(_MLP_LAYERS, random_key)\n",
    "\n",
    "# Place on device\n",
    "jax.device_put(model, device=gpus[0])\n",
    "\n",
    "# Make a batched version of the `predict` function\n",
    "batch_forward = vmap(forward_pass, in_axes=(None, 0), out_axes=0)\n",
    "\n",
    "# Defining an optimizer in Jax\n",
    "opt_init, opt_update, get_params = optimizers.adam(_LEARNING_RATE)\n",
    "opt_state = opt_init(model)\n",
    "\n",
    "train_loss, accuracies = run_training_loop(data_handler,\n",
    "                                           _N_EPOCHS,\n",
    "                                           opt_state,\n",
    "                                           _EVAL_FREQ)"
   ]
  },
  {
   "cell_type": "code",
   "execution_count": 19,
   "metadata": {},
   "outputs": [
    {
     "data": {
      "image/png": "[encoded data removed]",
      "text/plain": [
       "<Figure size 1296x288 with 2 Axes>"
      ]
     },
     "metadata": {
      "needs_background": "light"
     },
     "output_type": "display_data"
    }
   ],
   "source": [
    "modules.utils.plot_metrics(train_loss, accuracies)"
   ]
  }
 ],
 "metadata": {
  "kernelspec": {
   "display_name": "Python 3",
   "language": "python",
   "name": "python3"
  },
  "language_info": {
   "codemirror_mode": {
    "name": "ipython",
    "version": 3
   },
   "file_extension": ".py",
   "mimetype": "text/x-python",
   "name": "python",
   "nbconvert_exporter": "python",
   "pygments_lexer": "ipython3",
   "version": "3.7.7"
  }
 },
 "nbformat": 4,
 "nbformat_minor": 4
}
