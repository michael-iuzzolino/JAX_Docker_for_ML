{
 "cells": [
  {
   "cell_type": "code",
   "execution_count": 1,
   "metadata": {},
   "outputs": [],
   "source": [
    "%load_ext autoreload\n",
    "%autoreload 2"
   ]
  },
  {
   "cell_type": "code",
   "execution_count": 2,
   "metadata": {},
   "outputs": [
    {
     "name": "stdout",
     "output_type": "stream",
     "text": [
      "Thu May 28 06:03:57 2020       \r\n",
      "+-----------------------------------------------------------------------------+\r\n",
      "| NVIDIA-SMI 440.64.00    Driver Version: 440.64.00    CUDA Version: 10.2     |\r\n",
      "|-------------------------------+----------------------+----------------------+\r\n",
      "| GPU  Name        Persistence-M| Bus-Id        Disp.A | Volatile Uncorr. ECC |\r\n",
      "| Fan  Temp  Perf  Pwr:Usage/Cap|         Memory-Usage | GPU-Util  Compute M. |\r\n",
      "|===============================+======================+======================|\r\n",
      "|   0  TITAN Xp            Off  | 00000000:05:00.0 Off |                  N/A |\r\n",
      "| 29%   47C    P2    60W / 250W |     10MiB / 12194MiB |      0%      Default |\r\n",
      "+-------------------------------+----------------------+----------------------+\r\n",
      "|   1  TITAN Xp            Off  | 00000000:09:00.0 Off |                  N/A |\r\n",
      "| 23%   33C    P8     9W / 250W |     10MiB / 12196MiB |      0%      Default |\r\n",
      "+-------------------------------+----------------------+----------------------+\r\n",
      "                                                                               \r\n",
      "+-----------------------------------------------------------------------------+\r\n",
      "| Processes:                                                       GPU Memory |\r\n",
      "|  GPU       PID   Type   Process name                             Usage      |\r\n",
      "|=============================================================================|\r\n",
      "|  No running processes found                                                 |\r\n",
      "+-----------------------------------------------------------------------------+\r\n"
     ]
    }
   ],
   "source": [
    "!nvidia-smi"
   ]
  },
  {
   "cell_type": "code",
   "execution_count": 3,
   "metadata": {},
   "outputs": [],
   "source": [
    "# %env CUDA_DEVICE_ORDER=PCI_BUS_ID\n",
    "# %env CUDA_VISIBLE_DEVICES=1"
   ]
  },
  {
   "cell_type": "code",
   "execution_count": 22,
   "metadata": {},
   "outputs": [],
   "source": [
    "import sys\n",
    "import time\n",
    "import numpy as onp\n",
    "from collections import defaultdict\n",
    "\n",
    "import jax\n",
    "import jax.numpy as np\n",
    "from jax import grad, jit, vmap, value_and_grad\n",
    "from jax import random\n",
    "from jax.scipy.special import logsumexp\n",
    "from jax.experimental import optimizers"
   ]
  },
  {
   "cell_type": "code",
   "execution_count": 5,
   "metadata": {},
   "outputs": [],
   "source": [
    "import modules.utils\n",
    "import modules.datasets\n",
    "import config"
   ]
  },
  {
   "cell_type": "markdown",
   "metadata": {},
   "source": [
    "# Find GPU Devices"
   ]
  },
  {
   "cell_type": "code",
   "execution_count": 6,
   "metadata": {},
   "outputs": [
    {
     "data": {
      "text/plain": [
       "[GpuDevice(id=0), GpuDevice(id=1)]"
      ]
     },
     "execution_count": 6,
     "metadata": {},
     "output_type": "execute_result"
    }
   ],
   "source": [
    "gpus = jax.devices('gpu')\n",
    "gpus"
   ]
  },
  {
   "cell_type": "markdown",
   "metadata": {},
   "source": [
    "# Random Seed"
   ]
  },
  {
   "cell_type": "code",
   "execution_count": 7,
   "metadata": {},
   "outputs": [],
   "source": [
    "random_key = random.PRNGKey(42)"
   ]
  },
  {
   "cell_type": "markdown",
   "metadata": {},
   "source": [
    "# Data Handler"
   ]
  },
  {
   "cell_type": "code",
   "execution_count": 8,
   "metadata": {},
   "outputs": [],
   "source": [
    "_BATCH_SIZE = 32"
   ]
  },
  {
   "cell_type": "code",
   "execution_count": 9,
   "metadata": {},
   "outputs": [
    {
     "name": "stdout",
     "output_type": "stream",
     "text": [
      "Generating info for mnist...\n",
      "Complete.\n",
      "(32, 784) (32, 10)\n"
     ]
    },
    {
     "data": {
      "image/png": "[encoded data removed]",
      "text/plain": [
       "<Figure size 864x864 with 5 Axes>"
      ]
     },
     "metadata": {
      "needs_background": "light"
     },
     "output_type": "display_data"
    }
   ],
   "source": [
    "datahandler_key = 'pytorch' # 'pytorch', 'tensorflow'\n",
    "\n",
    "base_params = {\n",
    "    \"download_dir\" : config.download_dir,\n",
    "    \"dataset_name\" : \"MNIST\", # options: MNIST, CIFAR10\n",
    "    \"batch_size\"   : _BATCH_SIZE,\n",
    "    \"flatten_img\"  : True,\n",
    "    \"onehot_label\" : True\n",
    "}\n",
    "data_handler = modules.datasets.BuildDataHandler(datahandler_key, **base_params)\n",
    "\n",
    "for x, y in data_handler('train'):\n",
    "    print(x.shape, y.shape)\n",
    "    break\n",
    "    \n",
    "modules.utils.show_samples(data_handler, 5)"
   ]
  },
  {
   "cell_type": "markdown",
   "metadata": {},
   "source": [
    "# Model - Multi-Layer Perceptron\n",
    "\n",
    "Model construction in JAX differs significantly from PyTorch in that we cannot use classes; JAX is built around functional programming, so we must build everything using pure functions. Below we will develop a multi-layer perceptron from primitives; later, we will make use of experimental.stax to abstract away direct parameter construction."
   ]
  },
  {
   "cell_type": "markdown",
   "metadata": {},
   "source": [
    "## Instantiate Model"
   ]
  },
  {
   "cell_type": "code",
   "execution_count": 27,
   "metadata": {},
   "outputs": [],
   "source": [
    "def initialize_params(layers, random_key):\n",
    "    # Split off one key per layer\n",
    "    layer_keys = random.split(random_key, len(layers))\n",
    "    \n",
    "    # Initialize a single layer with Gaussian weights -  helper function\n",
    "    def initialize_layer(m, n, rand_key, scale=1e-2):\n",
    "        W_key, b_key = random.split(rand_key)\n",
    "        return scale * random.normal(W_key, (n, m)), scale * random.normal(b_key, (n,))\n",
    "    \n",
    "    return [initialize_layer(m, n, k) for m, n, k in zip(layers[:-1], layers[1:], layer_keys)]"
   ]
  },
  {
   "cell_type": "markdown",
   "metadata": {},
   "source": [
    "## Forward Pass Function"
   ]
  },
  {
   "cell_type": "code",
   "execution_count": 28,
   "metadata": {},
   "outputs": [],
   "source": [
    "def ReLU(x):\n",
    "    \"\"\" Rectified Linear Unit (ReLU) activation function \"\"\"\n",
    "    return np.maximum(0, x)\n",
    "\n",
    "def forward_pass(params, X):\n",
    "    \"\"\" Compute the forward pass for each example individually \"\"\"\n",
    "    activations = X\n",
    "    \n",
    "    # Loop over the ReLU hidden layers\n",
    "    for W, b in params[:-1]:\n",
    "        z = np.dot(W, activations) + b\n",
    "        activations = ReLU(z)\n",
    "    \n",
    "    # Perform final trafo to logits\n",
    "    final_W, final_b = params[-1]\n",
    "    logits = np.dot(final_W, activations) + final_b\n",
    "    return logits - logsumexp(logits)"
   ]
  },
  {
   "cell_type": "markdown",
   "metadata": {},
   "source": [
    "### Note\n",
    "You may be asking yourself, what's up with the `logits - logsumexp(logits)`? \n",
    "\n",
    "**tl;dr** this is done for numerical stability -- specifically, it avoids both underflow and overflow.\n",
    "\n",
    "At this level in JAX, we have to take care of it whereas Pytorch and Tensorflow take care of this for you, such as in `tf.softmax_cross_entropy_with_logits_v2`; see source code [here](https://github.com/tensorflow/tensorflow/blob/2b96f3662bd776e277f86997659e61046b56c315/tensorflow/python/ops/nn_ops.py#L3161-L3219).\n",
    "\n",
    "See this [stack overflow discussion](https://stackoverflow.com/questions/42599498/numercially-stable-softmax) for more detail."
   ]
  },
  {
   "cell_type": "markdown",
   "metadata": {},
   "source": [
    "## Alternative Formulation \n",
    "We can formulate the MLP using [experimental.stax.serial](https://jax.readthedocs.io/en/latest/jax.experimental.stax.html#jax.experimental.stax.serial), which is very similar to PyTorch's [nn.ModuleList](https://pytorch.org/docs/stable/nn.html#torch.nn.ModuleList)."
   ]
  },
  {
   "cell_type": "markdown",
   "metadata": {},
   "source": [
    "\n",
    "```python\n",
    "def MLP(layers, num_classes):\n",
    "    return stax.serial(\n",
    "        *[stax.serial(Dense(layer), Relu) for layer in layers],\n",
    "        Dense(num_classes),\n",
    "        LogSoftmax\n",
    "    )\n",
    "\n",
    "layers = [784, 64, 64]\n",
    "init_fxn, update_fxn = MLP(layers, num_classes)\n",
    "_, init_params = init_fxn(random_key, input_shape=(B,C,H,W))\n",
    "\n",
    "# Init optimizer\n",
    "\n",
    "# Forward pass\n",
    "output = update_fxn(params, images)\n",
    "```"
   ]
  },
  {
   "cell_type": "markdown",
   "metadata": {},
   "source": [
    "The above wraps up Fxn 1 and Fxn 2 above, along with abstracting Relu, Dense, etc. The return is an initialization function, `init_fxn`, and an update function, `update_fxn`. The init_fxn is used once, seeded with the random key generated from `random.PRNGKey(seed_val)`, along with the input shape. The initialized model parameters are returned, and subsequently used to initialize the optimizer. The `update_fxn` is used to perform the forward pass, taking current params and image input. A fully fleshed out version of this experimental.stax formulation will be given in Part 1 and beyond."
   ]
  },
  {
   "cell_type": "markdown",
   "metadata": {},
   "source": [
    "## Loss Function"
   ]
  },
  {
   "cell_type": "code",
   "execution_count": 29,
   "metadata": {},
   "outputs": [],
   "source": [
    "def loss_fxn(params, in_arrays, targets):\n",
    "    \"\"\" Compute the multi-class cross-entropy loss \"\"\"\n",
    "    preds = batch_forward(params, in_arrays)\n",
    "    return -np.sum(preds * targets)"
   ]
  },
  {
   "cell_type": "markdown",
   "metadata": {},
   "source": [
    "## Back Propagation"
   ]
  },
  {
   "cell_type": "code",
   "execution_count": 30,
   "metadata": {},
   "outputs": [],
   "source": [
    "@jit\n",
    "def update(i, params, x, y, opt_state):\n",
    "    \"\"\" Compute the gradient for a batch and update the parameters \"\"\"\n",
    "    value, grads = value_and_grad(loss_fxn)(params, x, y)\n",
    "    opt_state = opt_update(i, grads, opt_state)\n",
    "    return get_params(opt_state), opt_state, value"
   ]
  },
  {
   "cell_type": "markdown",
   "metadata": {},
   "source": [
    "## Evaluation"
   ]
  },
  {
   "cell_type": "code",
   "execution_count": 16,
   "metadata": {},
   "outputs": [],
   "source": [
    "def accuracy(params, data_handler, dataset_key):\n",
    "    \"\"\" Compute the accuracy for a provided dataloader \"\"\"\n",
    "    n_batches = data_handler.num_batches(dataset_key)\n",
    "    acc_total = 0\n",
    "    for batch_idx, (images, targets) in enumerate(data_handler(dataset_key)):\n",
    "        # Stdout\n",
    "        sys.stdout.write(f'\\r\\tEvaluating {dataset_key} set | Batch {batch_idx+1}/{n_batches}...')\n",
    "        sys.stdout.flush()\n",
    "        \n",
    "        # Compute target class\n",
    "        target_class = np.argmax(targets, axis=1)\n",
    "        \n",
    "        # Model Inference\n",
    "        predicted_class = np.argmax(batch_forward(params, images), axis=1)\n",
    "        \n",
    "        # Aggregate\n",
    "        acc_total += np.sum(predicted_class == target_class)\n",
    "    return acc_total / data_handler.size(dataset_key)\n",
    "\n",
    "def evaluate(step_i, params, data_handler, accuracies):\n",
    "    print(\"\\nEvaluation Phase.\")\n",
    "    for dataset_key in ['train', 'test']:\n",
    "        acc = accuracy(params, data_handler, dataset_key) \n",
    "        accuracies[dataset_key].append((step_i, acc))\n",
    "    print(\"\\n\")"
   ]
  },
  {
   "cell_type": "markdown",
   "metadata": {},
   "source": [
    "# Training Loop"
   ]
  },
  {
   "cell_type": "code",
   "execution_count": 25,
   "metadata": {},
   "outputs": [],
   "source": [
    "def run_training_loop(data_handler, n_epochs, opt_state, eval_freq):\n",
    "    \"\"\" Implements a learning loop over epochs. \"\"\"\n",
    "    # Metric containers\n",
    "    accuracies = defaultdict(list)\n",
    "    train_loss = []\n",
    "    \n",
    "    # Get the initial set of parameters \n",
    "    params = get_params(opt_state)\n",
    "    \n",
    "    # Init evaluation\n",
    "    evaluate(0, params, data_handler, accuracies)\n",
    "    \n",
    "    # Compute num train batches\n",
    "    n_train_batches = data_handler.num_batches('train')\n",
    "    \n",
    "    # Loop over the training epochs\n",
    "    try:\n",
    "        train_step_i = 0\n",
    "        for epoch_i in range(n_epochs):\n",
    "            epoch_loss = []\n",
    "            for batch_i, (data, target) in enumerate(data_handler('train')):\n",
    "                # Forward pass + Backprop\n",
    "                params, opt_state, loss_val = update(train_step_i, params, data, target, opt_state)\n",
    "                train_step_i += 1\n",
    "\n",
    "                # Update loss over epoch\n",
    "                epoch_loss.append(loss_val)\n",
    "\n",
    "                # Stdout\n",
    "                stdout_str = f\"\\r\\tTraining Phase | Epoch {epoch_i+1}/{n_epochs} -- \"\n",
    "                stdout_str += f\"Batch {batch_i}/{n_train_batches} -- Avg Epoch Loss: {onp.mean(epoch_loss):0.2f}...\"\n",
    "                sys.stdout.write(stdout_str)\n",
    "                sys.stdout.flush()\n",
    "\n",
    "            # Update loss over training\n",
    "            train_loss.append(epoch_loss)\n",
    "\n",
    "            # Evaluate\n",
    "            if (epoch_i+1) % eval_freq == 0:\n",
    "                evaluate(epoch_i, params, data_handler, accuracies)\n",
    "    except KeyboardInterrupt:\n",
    "        print(\"\\nEnding early.\")\n",
    "    \n",
    "    return train_loss, accuracies, params"
   ]
  },
  {
   "cell_type": "code",
   "execution_count": 26,
   "metadata": {},
   "outputs": [
    {
     "name": "stdout",
     "output_type": "stream",
     "text": [
      "\n",
      "Evaluation Phase.\n",
      "\tEvaluating test set | Batch 313/313......\n",
      "\n",
      "\tTraining Phase | Epoch 1/5 -- Batch 1874/1875 -- Loss: 17.36...\n",
      "Evaluation Phase.\n",
      "\tEvaluating test set | Batch 313/313......\n",
      "\n",
      "\tTraining Phase | Epoch 2/5 -- Batch 1874/1875 -- Loss: 11.12...\n",
      "Evaluation Phase.\n",
      "\tEvaluating test set | Batch 313/313......\n",
      "\n",
      "\tTraining Phase | Epoch 3/5 -- Batch 1874/1875 -- Loss: 10.49...\n",
      "Evaluation Phase.\n",
      "\tEvaluating test set | Batch 313/313......\n",
      "\n",
      "\tTraining Phase | Epoch 4/5 -- Batch 1874/1875 -- Loss: 10.04...\n",
      "Evaluation Phase.\n",
      "\tEvaluating test set | Batch 313/313......\n",
      "\n",
      "\tTraining Phase | Epoch 5/5 -- Batch 1874/1875 -- Loss: 9.70...\n",
      "Evaluation Phase.\n",
      "\tEvaluating test set | Batch 313/313......\n",
      "\n"
     ]
    }
   ],
   "source": [
    "_N_EPOCHS = 5\n",
    "_EVAL_FREQ = 1\n",
    "_MLP_LAYERS = [784, 8, 10]\n",
    "_LEARNING_RATE = 1e-3\n",
    "\n",
    "# Return a list of tuples of layer weights\n",
    "model = initialize_params(_MLP_LAYERS, random_key)\n",
    "\n",
    "# Place on device\n",
    "jax.device_put(model, device=gpus[0])\n",
    "\n",
    "# Make a batched version of the `predict` function\n",
    "batch_forward = vmap(forward_pass, in_axes=(None, 0), out_axes=0)\n",
    "\n",
    "# Defining an optimizer in Jax\n",
    "opt_init, opt_update, get_params = optimizers.adam(_LEARNING_RATE)\n",
    "opt_state = opt_init(model)\n",
    "\n",
    "train_loss, accuracies, params = run_training_loop(data_handler,\n",
    "                                                   _N_EPOCHS,\n",
    "                                                   opt_state,\n",
    "                                                   _EVAL_FREQ)"
   ]
  },
  {
   "cell_type": "markdown",
   "metadata": {},
   "source": [
    "### Plot Loss and Metrics"
   ]
  },
  {
   "cell_type": "code",
   "execution_count": 32,
   "metadata": {},
   "outputs": [
    {
     "data": {
      "image/png": "[encoded data removed]",
      "text/plain": [
       "<Figure size 1296x288 with 2 Axes>"
      ]
     },
     "metadata": {
      "needs_background": "light"
     },
     "output_type": "display_data"
    }
   ],
   "source": [
    "modules.utils.plot_metrics(train_loss, accuracies)"
   ]
  },
  {
   "cell_type": "markdown",
   "metadata": {},
   "source": [
    "# Visual Eval"
   ]
  },
  {
   "cell_type": "code",
   "execution_count": 50,
   "metadata": {},
   "outputs": [
    {
     "name": "stdout",
     "output_type": "stream",
     "text": [
      "Evaluating train set | Batch 1875/1875...\n",
      "Accuracy: 0.92\n",
      "Evaluating test set | Batch 313/313...\n",
      "Accuracy: 0.91\n"
     ]
    }
   ],
   "source": [
    "samples, accuracies = modules.utils.generate_samples(batch_forward, params, data_handler)"
   ]
  },
  {
   "cell_type": "code",
   "execution_count": 52,
   "metadata": {},
   "outputs": [
    {
     "data": {
      "image/png": "[encoded data removed]",
      "text/plain": [
       "<Figure size 864x864 with 4 Axes>"
      ]
     },
     "metadata": {
      "needs_background": "light"
     },
     "output_type": "display_data"
    },
    {
     "data": {
      "text/plain": [
       "<Figure size 432x288 with 0 Axes>"
      ]
     },
     "metadata": {},
     "output_type": "display_data"
    },
    {
     "data": {
      "image/png": "[encoded data removed]",
      "text/plain": [
       "<Figure size 864x864 with 4 Axes>"
      ]
     },
     "metadata": {
      "needs_background": "light"
     },
     "output_type": "display_data"
    },
    {
     "data": {
      "text/plain": [
       "<Figure size 432x288 with 0 Axes>"
      ]
     },
     "metadata": {},
     "output_type": "display_data"
    }
   ],
   "source": [
    "modules.utils.show_predictions(samples, accuracies, data_handler) "
   ]
  }
 ],
 "metadata": {
  "kernelspec": {
   "display_name": "Python 3",
   "language": "python",
   "name": "python3"
  },
  "language_info": {
   "codemirror_mode": {
    "name": "ipython",
    "version": 3
   },
   "file_extension": ".py",
   "mimetype": "text/x-python",
   "name": "python",
   "nbconvert_exporter": "python",
   "pygments_lexer": "ipython3",
   "version": "3.7.7"
  }
 },
 "nbformat": 4,
 "nbformat_minor": 4
}
