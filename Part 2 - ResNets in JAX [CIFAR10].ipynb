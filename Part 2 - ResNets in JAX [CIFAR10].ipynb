{
 "cells": [
  {
   "cell_type": "code",
   "execution_count": 1,
   "metadata": {},
   "outputs": [],
   "source": [
    "%load_ext autoreload\n",
    "%autoreload 2"
   ]
  },
  {
   "cell_type": "code",
   "execution_count": 2,
   "metadata": {},
   "outputs": [
    {
     "name": "stdout",
     "output_type": "stream",
     "text": [
      "Thu May 28 04:51:22 2020       \r\n",
      "+-----------------------------------------------------------------------------+\r\n",
      "| NVIDIA-SMI 440.64.00    Driver Version: 440.64.00    CUDA Version: 10.2     |\r\n",
      "|-------------------------------+----------------------+----------------------+\r\n",
      "| GPU  Name        Persistence-M| Bus-Id        Disp.A | Volatile Uncorr. ECC |\r\n",
      "| Fan  Temp  Perf  Pwr:Usage/Cap|         Memory-Usage | GPU-Util  Compute M. |\r\n",
      "|===============================+======================+======================|\r\n",
      "|   0  TITAN Xp            Off  | 00000000:05:00.0 Off |                  N/A |\r\n",
      "| 27%   44C    P8     9W / 250W |  12152MiB / 12194MiB |      0%      Default |\r\n",
      "+-------------------------------+----------------------+----------------------+\r\n",
      "|   1  TITAN Xp            Off  | 00000000:09:00.0 Off |                  N/A |\r\n",
      "| 37%   60C    P2    76W / 250W |    157MiB / 12196MiB |      0%      Default |\r\n",
      "+-------------------------------+----------------------+----------------------+\r\n",
      "                                                                               \r\n",
      "+-----------------------------------------------------------------------------+\r\n",
      "| Processes:                                                       GPU Memory |\r\n",
      "|  GPU       PID   Type   Process name                             Usage      |\r\n",
      "|=============================================================================|\r\n",
      "+-----------------------------------------------------------------------------+\r\n"
     ]
    }
   ],
   "source": [
    "!nvidia-smi"
   ]
  },
  {
   "cell_type": "code",
   "execution_count": 3,
   "metadata": {},
   "outputs": [
    {
     "name": "stdout",
     "output_type": "stream",
     "text": [
      "env: CUDA_DEVICE_ORDER=PCI_BUS_ID\n",
      "env: CUDA_VISIBLE_DEVICES=1\n"
     ]
    }
   ],
   "source": [
    "%env CUDA_DEVICE_ORDER=PCI_BUS_ID\n",
    "%env CUDA_VISIBLE_DEVICES=1"
   ]
  },
  {
   "cell_type": "code",
   "execution_count": 4,
   "metadata": {},
   "outputs": [],
   "source": [
    "import sys\n",
    "import time\n",
    "from functools import partial\n",
    "from collections import defaultdict\n",
    "\n",
    "import numpy as onp\n",
    "\n",
    "import jax\n",
    "import jax.numpy as np\n",
    "from jax import grad, jit, vmap, value_and_grad\n",
    "from jax import random\n",
    "from jax.scipy.special import logsumexp\n",
    "from jax.experimental import optimizers\n",
    "from jax.experimental import stax\n",
    "from jax.experimental.stax import (AvgPool, BatchNorm, Conv, Dense, FanInSum,\n",
    "                                   FanOut, Flatten, GeneralConv, Identity,\n",
    "                                   MaxPool, Relu, LogSoftmax)"
   ]
  },
  {
   "cell_type": "markdown",
   "metadata": {},
   "source": [
    "## References\n",
    "- Jax ResNet50 Example: https://github.com/google/jax/blob/master/examples/resnet50.py\n",
    "- Initializations: https://jax.readthedocs.io/en/latest/jax.nn.initializers.html\n",
    "- jax.experimental.stax: https://jax.readthedocs.io/en/latest/_modules/jax/experimental/stax.html#Dropout\n",
    "- Pytorch Models: https://pytorch.org/docs/stable/torchvision/models.html"
   ]
  },
  {
   "cell_type": "code",
   "execution_count": 5,
   "metadata": {},
   "outputs": [],
   "source": [
    "import modules.utils\n",
    "import modules.datasets\n",
    "import config"
   ]
  },
  {
   "cell_type": "markdown",
   "metadata": {},
   "source": [
    "# Find GPU Devices"
   ]
  },
  {
   "cell_type": "code",
   "execution_count": 6,
   "metadata": {},
   "outputs": [
    {
     "data": {
      "text/plain": [
       "[GpuDevice(id=0)]"
      ]
     },
     "execution_count": 6,
     "metadata": {},
     "output_type": "execute_result"
    }
   ],
   "source": [
    "gpus = jax.devices('gpu')\n",
    "gpus"
   ]
  },
  {
   "cell_type": "markdown",
   "metadata": {},
   "source": [
    "# Random Seed"
   ]
  },
  {
   "cell_type": "code",
   "execution_count": 7,
   "metadata": {},
   "outputs": [],
   "source": [
    "random_key = random.PRNGKey(42)"
   ]
  },
  {
   "cell_type": "markdown",
   "metadata": {},
   "source": [
    "# Data Handler"
   ]
  },
  {
   "cell_type": "code",
   "execution_count": 8,
   "metadata": {},
   "outputs": [],
   "source": [
    "_BATCH_SIZE = 64"
   ]
  },
  {
   "cell_type": "code",
   "execution_count": 9,
   "metadata": {},
   "outputs": [
    {
     "name": "stdout",
     "output_type": "stream",
     "text": [
      "Files already downloaded and verified\n",
      "(64, 3, 32, 32) (64, 10)\n"
     ]
    },
    {
     "data": {
      "image/png": "[encoded data removed]",
      "text/plain": [
       "<Figure size 864x864 with 2 Axes>"
      ]
     },
     "metadata": {
      "needs_background": "light"
     },
     "output_type": "display_data"
    }
   ],
   "source": [
    "datahandler_key = 'pytorch' # 'pytorch', 'tensorflow'\n",
    "dataset_name = \"CIFAR10\" # options: MNIST, CIFAR10, CIFAR100, CelebA\n",
    "\n",
    "base_params = {\n",
    "    \"download_dir\" : config.download_dir,\n",
    "    \"dataset_name\" : dataset_name,\n",
    "    \"batch_size\"   : _BATCH_SIZE,\n",
    "    \"flatten_img\"  : False,\n",
    "    \"onehot_label\" : True,\n",
    "    \"image_resize\" : 224 if dataset_name == 'CelebA' else None\n",
    "}\n",
    "data_handler = modules.datasets.BuildDataHandler(datahandler_key, **base_params)\n",
    "\n",
    "for x, y in data_handler('train'):\n",
    "    print(x.shape, y.shape)\n",
    "    break\n",
    "    \n",
    "modules.utils.show_samples(data_handler, 2)"
   ]
  },
  {
   "cell_type": "markdown",
   "metadata": {},
   "source": [
    "# Model - Resnet"
   ]
  },
  {
   "cell_type": "code",
   "execution_count": 1,
   "metadata": {},
   "outputs": [],
   "source": [
    "import modules.jax_models"
   ]
  },
  {
   "cell_type": "code",
   "execution_count": 15,
   "metadata": {},
   "outputs": [
    {
     "data": {
      "text/plain": [
       "(64, 3, 32, 32)"
      ]
     },
     "execution_count": 15,
     "metadata": {},
     "output_type": "execute_result"
    }
   ],
   "source": [
    "img_format = 'NCHW'\n",
    "input_shape = (_BATCH_SIZE, *data_handler.img_dim)\n",
    "input_shape"
   ]
  },
  {
   "cell_type": "markdown",
   "metadata": {},
   "source": [
    "## Instantiate Model"
   ]
  },
  {
   "cell_type": "code",
   "execution_count": 17,
   "metadata": {},
   "outputs": [],
   "source": [
    "init_fxn, update_fxn = modules.jax_models.ResNet18(num_classes=data_handler.num_classes, img_fmt=img_format, img_dim=input_shape[2:])\n",
    "_, params = init_fxn(random_key, input_shape)"
   ]
  },
  {
   "cell_type": "markdown",
   "metadata": {},
   "source": [
    "### Place on specific device"
   ]
  },
  {
   "cell_type": "code",
   "execution_count": 19,
   "metadata": {},
   "outputs": [],
   "source": [
    "# Place on device\n",
    "# params = jax.device_put(params, device=gpus[0])"
   ]
  },
  {
   "cell_type": "markdown",
   "metadata": {},
   "source": [
    "### Check Forward Pass"
   ]
  },
  {
   "cell_type": "code",
   "execution_count": null,
   "metadata": {},
   "outputs": [],
   "source": [
    "test_imgs = onp.random.random(size=input_shape)\n",
    "test_imgs.shape"
   ]
  },
  {
   "cell_type": "code",
   "execution_count": 18,
   "metadata": {},
   "outputs": [
    {
     "data": {
      "text/plain": [
       "(64, 10)"
      ]
     },
     "execution_count": 18,
     "metadata": {},
     "output_type": "execute_result"
    }
   ],
   "source": [
    "out = update_fxn(params, test_imgs)\n",
    "out.shape"
   ]
  },
  {
   "cell_type": "markdown",
   "metadata": {},
   "source": [
    "## Loss Function"
   ]
  },
  {
   "cell_type": "code",
   "execution_count": 20,
   "metadata": {},
   "outputs": [],
   "source": [
    "def loss_fxn(params, images, targets):\n",
    "    log_softmax = update_fxn(params, images)\n",
    "    return -np.sum(log_softmax*targets)"
   ]
  },
  {
   "cell_type": "markdown",
   "metadata": {},
   "source": [
    "## Back Propagation"
   ]
  },
  {
   "cell_type": "code",
   "execution_count": 21,
   "metadata": {},
   "outputs": [],
   "source": [
    "@jit\n",
    "def update(i, params, x, y, opt_state):\n",
    "    \"\"\" Compute the gradient for a batch and update the parameters \"\"\"\n",
    "    value, grads = value_and_grad(loss_fxn)(params, x, y)\n",
    "    opt_state = opt_update(i, grads, opt_state)\n",
    "    return get_params(opt_state), opt_state, value"
   ]
  },
  {
   "cell_type": "markdown",
   "metadata": {},
   "source": [
    "## Evaluation"
   ]
  },
  {
   "cell_type": "code",
   "execution_count": 22,
   "metadata": {},
   "outputs": [],
   "source": [
    "def accuracy(params, data_handler, dataset_key):\n",
    "    \"\"\" Compute the accuracy for a provided dataloader \"\"\"\n",
    "    n_batches = data_handler.num_batches(dataset_key)\n",
    "    acc_total = 0\n",
    "    for batch_idx, (images, targets) in enumerate(data_handler(dataset_key)):\n",
    "        # Stdout\n",
    "        sys.stdout.write(f'\\r\\tEvaluating {dataset_key} set | Batch {batch_idx+1}/{n_batches}...')\n",
    "        sys.stdout.flush()\n",
    "        \n",
    "        # Compute target class\n",
    "        target_class = np.argmax(targets, axis=1)\n",
    "        \n",
    "        # Model Inference\n",
    "        predicted_class = np.argmax(update_fxn(params, images), axis=1)\n",
    "        \n",
    "        # Aggregate\n",
    "        acc_total += np.sum(predicted_class == target_class)\n",
    "        \n",
    "    return acc_total / data_handler.size(dataset_key)\n",
    "\n",
    "def evaluate(step_i, params, data_handler, accuracies):\n",
    "    print(\"\\nEvaluation Phase.\")\n",
    "    for dataset_key in ['train', 'test']:\n",
    "        acc = accuracy(params, data_handler, dataset_key) \n",
    "        accuracies[dataset_key].append((step_i, acc))\n",
    "    print(\"\\n\")"
   ]
  },
  {
   "cell_type": "markdown",
   "metadata": {},
   "source": [
    "# Training Loop"
   ]
  },
  {
   "cell_type": "code",
   "execution_count": 23,
   "metadata": {},
   "outputs": [],
   "source": [
    "def run_training_loop(data_handler, n_epochs, opt_state, eval_freq):\n",
    "    \"\"\" Implements a learning loop over epochs. \"\"\"\n",
    "    # Metric containers\n",
    "    accuracies = defaultdict(list)\n",
    "    train_loss = []\n",
    "    \n",
    "    # Get the initial set of parameters \n",
    "    params = get_params(opt_state)\n",
    "    \n",
    "    # Init evaluation\n",
    "    evaluate(0, params, data_handler, accuracies)\n",
    "    \n",
    "    # Compute num train batches\n",
    "    n_train_batches = data_handler.num_batches('train')\n",
    "    \n",
    "    train_step_i = 0\n",
    "    # Loop over the training epochs\n",
    "    try:\n",
    "        for epoch_i in range(n_epochs):\n",
    "            epoch_loss = []\n",
    "            for batch_i, (data, target) in enumerate(data_handler('train')):\n",
    "\n",
    "                # Forward pass + Backprop \n",
    "                params, opt_state, loss_val = update(train_step_i, params, data, target, opt_state)\n",
    "                train_step_i += 1\n",
    "                \n",
    "                # Update loss over epoch\n",
    "                epoch_loss.append(loss_val)\n",
    "                \n",
    "                # Stdout\n",
    "                stdout_str = f\"\\r\\tTraining Phase | Epoch {epoch_i+1}/{n_epochs} -- \"\n",
    "                stdout_str += f\"Batch {batch_i}/{n_train_batches} -- Avg Epoch Loss: {onp.mean(epoch_loss):0.2f}...\"\n",
    "                sys.stdout.write(stdout_str)\n",
    "                sys.stdout.flush()\n",
    "            \n",
    "            # Update loss over training\n",
    "            train_loss.append(epoch_loss)\n",
    "            \n",
    "            # Evaluate\n",
    "            if (epoch_i+1) % eval_freq == 0:\n",
    "                evaluate(epoch_i, params, data_handler, accuracies)\n",
    "    except KeyboardInterrupt:\n",
    "        print(\"\\nEnding early.\")\n",
    "    \n",
    "    return train_loss, accuracies, params"
   ]
  },
  {
   "cell_type": "code",
   "execution_count": 24,
   "metadata": {},
   "outputs": [],
   "source": [
    "_LEARNING_RATE = 1e-3\n",
    "\n",
    "# Defining an optimizer in Jax\n",
    "opt_init, opt_update, get_params = optimizers.adam(_LEARNING_RATE)\n",
    "# opt_init, opt_update, get_params = optimizers.momentum(_LEARNING_RATE, mass=0.9)\n",
    "opt_state = opt_init(params)"
   ]
  },
  {
   "cell_type": "code",
   "execution_count": 25,
   "metadata": {
    "scrolled": true
   },
   "outputs": [
    {
     "name": "stdout",
     "output_type": "stream",
     "text": [
      "\n",
      "Evaluation Phase.\n",
      "\tEvaluating test set | Batch 157/157....\n",
      "\n",
      "\tTraining Phase | Epoch 1/4 -- Batch 781/782 -- Loss: 92.01....\n",
      "Evaluation Phase.\n",
      "\tEvaluating test set | Batch 157/157....\n",
      "\n",
      "\tTraining Phase | Epoch 2/4 -- Batch 781/782 -- Loss: 66.95...\n",
      "Evaluation Phase.\n",
      "\tEvaluating test set | Batch 157/157....\n",
      "\n",
      "\tTraining Phase | Epoch 3/4 -- Batch 781/782 -- Loss: 55.13...\n",
      "Evaluation Phase.\n",
      "\tEvaluating test set | Batch 157/157....\n",
      "\n",
      "\tTraining Phase | Epoch 4/4 -- Batch 781/782 -- Loss: 47.69...\n",
      "Evaluation Phase.\n",
      "\tEvaluating test set | Batch 157/157....\n",
      "\n"
     ]
    }
   ],
   "source": [
    "_N_EPOCHS = 4\n",
    "_EVAL_FREQ = 1\n",
    "\n",
    "run_vals = run_training_loop(data_handler, _N_EPOCHS, opt_state, _EVAL_FREQ)\n",
    "train_loss, accuracies, params = run_vals"
   ]
  },
  {
   "cell_type": "code",
   "execution_count": null,
   "metadata": {},
   "outputs": [],
   "source": [
    "modules.utils.plot_metrics(train_loss, accuracies)"
   ]
  },
  {
   "cell_type": "markdown",
   "metadata": {},
   "source": [
    "# Visual Eval"
   ]
  },
  {
   "cell_type": "code",
   "execution_count": null,
   "metadata": {},
   "outputs": [],
   "source": [
    "samples, accuracies = modules.utils.generate_samples(update_fxn, params, data_handler)"
   ]
  },
  {
   "cell_type": "code",
   "execution_count": null,
   "metadata": {},
   "outputs": [],
   "source": [
    "modules.utils.show_predictions(samples, accuracies, data_handler) "
   ]
  }
 ],
 "metadata": {
  "kernelspec": {
   "display_name": "Python 3",
   "language": "python",
   "name": "python3"
  },
  "language_info": {
   "codemirror_mode": {
    "name": "ipython",
    "version": 3
   },
   "file_extension": ".py",
   "mimetype": "text/x-python",
   "name": "python",
   "nbconvert_exporter": "python",
   "pygments_lexer": "ipython3",
   "version": "3.7.7"
  }
 },
 "nbformat": 4,
 "nbformat_minor": 4
}
