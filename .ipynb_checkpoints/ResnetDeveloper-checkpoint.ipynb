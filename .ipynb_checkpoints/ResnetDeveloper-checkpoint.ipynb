{
 "cells": [
  {
   "cell_type": "code",
   "execution_count": 37,
   "metadata": {},
   "outputs": [
    {
     "name": "stdout",
     "output_type": "stream",
     "text": [
      "The autoreload extension is already loaded. To reload it, use:\n",
      "  %reload_ext autoreload\n"
     ]
    }
   ],
   "source": [
    "%load_ext autoreload\n",
    "%autoreload 2"
   ]
  },
  {
   "cell_type": "code",
   "execution_count": 2,
   "metadata": {},
   "outputs": [
    {
     "name": "stdout",
     "output_type": "stream",
     "text": [
      "Thu May 28 00:37:49 2020       \r\n",
      "+-----------------------------------------------------------------------------+\r\n",
      "| NVIDIA-SMI 440.64.00    Driver Version: 440.64.00    CUDA Version: 10.2     |\r\n",
      "|-------------------------------+----------------------+----------------------+\r\n",
      "| GPU  Name        Persistence-M| Bus-Id        Disp.A | Volatile Uncorr. ECC |\r\n",
      "| Fan  Temp  Perf  Pwr:Usage/Cap|         Memory-Usage | GPU-Util  Compute M. |\r\n",
      "|===============================+======================+======================|\r\n",
      "|   0  TITAN Xp            Off  | 00000000:05:00.0 Off |                  N/A |\r\n",
      "| 23%   35C    P8     9W / 250W |     10MiB / 12194MiB |      0%      Default |\r\n",
      "+-------------------------------+----------------------+----------------------+\r\n",
      "|   1  TITAN Xp            Off  | 00000000:09:00.0 Off |                  N/A |\r\n",
      "| 23%   31C    P8     9W / 250W |     10MiB / 12196MiB |      0%      Default |\r\n",
      "+-------------------------------+----------------------+----------------------+\r\n",
      "                                                                               \r\n",
      "+-----------------------------------------------------------------------------+\r\n",
      "| Processes:                                                       GPU Memory |\r\n",
      "|  GPU       PID   Type   Process name                             Usage      |\r\n",
      "|=============================================================================|\r\n",
      "|  No running processes found                                                 |\r\n",
      "+-----------------------------------------------------------------------------+\r\n"
     ]
    }
   ],
   "source": [
    "!nvidia-smi"
   ]
  },
  {
   "cell_type": "code",
   "execution_count": 3,
   "metadata": {},
   "outputs": [
    {
     "name": "stdout",
     "output_type": "stream",
     "text": [
      "env: CUDA_DEVICE_ORDER=PCI_BUS_ID\n",
      "env: CUDA_VISIBLE_DEVICES=0\n"
     ]
    }
   ],
   "source": [
    "%env CUDA_DEVICE_ORDER=PCI_BUS_ID\n",
    "%env CUDA_VISIBLE_DEVICES=0"
   ]
  },
  {
   "cell_type": "code",
   "execution_count": 4,
   "metadata": {},
   "outputs": [],
   "source": [
    "import sys\n",
    "import time\n",
    "from collections import defaultdict\n",
    "import numpy as onp"
   ]
  },
  {
   "cell_type": "markdown",
   "metadata": {},
   "source": [
    "# PyTorch"
   ]
  },
  {
   "cell_type": "code",
   "execution_count": 31,
   "metadata": {},
   "outputs": [],
   "source": [
    "import torch\n",
    "import modules.pytorch_models"
   ]
  },
  {
   "cell_type": "code",
   "execution_count": 32,
   "metadata": {},
   "outputs": [],
   "source": [
    "resnet = modules.pytorch_models.resnet50()"
   ]
  },
  {
   "cell_type": "code",
   "execution_count": 33,
   "metadata": {},
   "outputs": [],
   "source": [
    "def compute_output(inp, k, s, p):\n",
    "    out = int(np.floor((inp - k + 2*p)/s) + 1)\n",
    "    return out"
   ]
  },
  {
   "cell_type": "code",
   "execution_count": 34,
   "metadata": {},
   "outputs": [
    {
     "name": "stdout",
     "output_type": "stream",
     "text": [
      "X:  (10, 3, 32, 32)\n",
      "Layer 0\n",
      "\tconv1:  (10, 64, 16, 16)\n",
      "\tmp:     (10, 64, 8, 8)\n",
      "\n",
      "Layer 1\n",
      "\tx:      (10, 64, 8, 8)\n",
      "\tconv1:  (10, 64, 8, 8)\n",
      "\tconv2:  (10, 64, 8, 8)\n",
      "\tconv3:  (10, 256, 8, 8)\n",
      "\tx:      (10, 256, 8, 8)\n",
      "\tconv1:  (10, 64, 8, 8)\n",
      "\tconv2:  (10, 64, 8, 8)\n",
      "\tconv3:  (10, 256, 8, 8)\n",
      "\tx:      (10, 256, 8, 8)\n",
      "\tconv1:  (10, 64, 8, 8)\n",
      "\tconv2:  (10, 64, 8, 8)\n",
      "\tconv3:  (10, 256, 8, 8)\n",
      "\n",
      "Layer 2\n",
      "\tx:      (10, 256, 8, 8)\n",
      "\tconv1:  (10, 128, 8, 8)\n",
      "\tconv2:  (10, 128, 4, 4)\n",
      "\tconv3:  (10, 512, 4, 4)\n",
      "\tx:      (10, 512, 4, 4)\n",
      "\tconv1:  (10, 128, 4, 4)\n",
      "\tconv2:  (10, 128, 4, 4)\n",
      "\tconv3:  (10, 512, 4, 4)\n",
      "\tx:      (10, 512, 4, 4)\n",
      "\tconv1:  (10, 128, 4, 4)\n",
      "\tconv2:  (10, 128, 4, 4)\n",
      "\tconv3:  (10, 512, 4, 4)\n",
      "\tx:      (10, 512, 4, 4)\n",
      "\tconv1:  (10, 128, 4, 4)\n",
      "\tconv2:  (10, 128, 4, 4)\n",
      "\tconv3:  (10, 512, 4, 4)\n",
      "\n",
      "Layer 3\n",
      "\tx:      (10, 512, 4, 4)\n",
      "\tconv1:  (10, 256, 4, 4)\n",
      "\tconv2:  (10, 256, 2, 2)\n",
      "\tconv3:  (10, 1024, 2, 2)\n",
      "\tx:      (10, 1024, 2, 2)\n",
      "\tconv1:  (10, 256, 2, 2)\n",
      "\tconv2:  (10, 256, 2, 2)\n",
      "\tconv3:  (10, 1024, 2, 2)\n",
      "\tx:      (10, 1024, 2, 2)\n",
      "\tconv1:  (10, 256, 2, 2)\n",
      "\tconv2:  (10, 256, 2, 2)\n",
      "\tconv3:  (10, 1024, 2, 2)\n",
      "\tx:      (10, 1024, 2, 2)\n",
      "\tconv1:  (10, 256, 2, 2)\n",
      "\tconv2:  (10, 256, 2, 2)\n",
      "\tconv3:  (10, 1024, 2, 2)\n",
      "\tx:      (10, 1024, 2, 2)\n",
      "\tconv1:  (10, 256, 2, 2)\n",
      "\tconv2:  (10, 256, 2, 2)\n",
      "\tconv3:  (10, 1024, 2, 2)\n",
      "\tx:      (10, 1024, 2, 2)\n",
      "\tconv1:  (10, 256, 2, 2)\n",
      "\tconv2:  (10, 256, 2, 2)\n",
      "\tconv3:  (10, 1024, 2, 2)\n",
      "\n",
      "Layer 4\n",
      "\tx:      (10, 1024, 2, 2)\n",
      "\tconv1:  (10, 512, 2, 2)\n",
      "\tconv2:  (10, 512, 1, 1)\n",
      "\tconv3:  (10, 2048, 1, 1)\n",
      "\tx:      (10, 2048, 1, 1)\n",
      "\tconv1:  (10, 512, 1, 1)\n",
      "\tconv2:  (10, 512, 1, 1)\n",
      "\tconv3:  (10, 2048, 1, 1)\n",
      "\tx:      (10, 2048, 1, 1)\n",
      "\tconv1:  (10, 512, 1, 1)\n",
      "\tconv2:  (10, 512, 1, 1)\n",
      "\tconv3:  (10, 2048, 1, 1)\n",
      "\n",
      "Final\n",
      "\tAvgPool:  (10, 2048, 1, 1)\n",
      "\tFlat:  (10, 2048)\n",
      "\tFC:  (10, 1000)\n"
     ]
    },
    {
     "data": {
      "text/plain": [
       "torch.Size([10, 1000])"
      ]
     },
     "execution_count": 34,
     "metadata": {},
     "output_type": "execute_result"
    }
   ],
   "source": [
    "img_dim = 32\n",
    "X = torch.zeros((10, 3, img_dim, img_dim))\n",
    "out = resnet(X)\n",
    "out.shape"
   ]
  },
  {
   "cell_type": "markdown",
   "metadata": {},
   "source": [
    "# JAX"
   ]
  },
  {
   "cell_type": "code",
   "execution_count": 63,
   "metadata": {},
   "outputs": [],
   "source": [
    "import jax.numpy as np\n",
    "from jax import jit, grad, random\n",
    "import modules.jax_models\n",
    "\n",
    "img_format = 'NCHW'\n",
    "\n",
    "rng = onp.random.RandomState(0)\n",
    "rng_key = random.PRNGKey(0)\n",
    "\n",
    "batch_size = 2\n",
    "input_shape = (batch_size, 3, 224, 224)"
   ]
  },
  {
   "cell_type": "code",
   "execution_count": 67,
   "metadata": {},
   "outputs": [
    {
     "data": {
      "text/plain": [
       "(2, 3, 224, 224)"
      ]
     },
     "execution_count": 67,
     "metadata": {},
     "output_type": "execute_result"
    }
   ],
   "source": [
    "# Fake image\n",
    "images = rng.rand(*input_shape).astype('float32')\n",
    "images.shape"
   ]
  },
  {
   "cell_type": "code",
   "execution_count": 70,
   "metadata": {
    "scrolled": true
   },
   "outputs": [],
   "source": [
    "init, apply = modules.jax_models.resnet.ResNet152(num_classes=10, img_fmt=img_format, img_dim=input_shape[2:])\n",
    "_, params = init(rng_key, input_shape)"
   ]
  },
  {
   "cell_type": "code",
   "execution_count": null,
   "metadata": {},
   "outputs": [],
   "source": [
    "out = apply(params, images)\n",
    "out.shape"
   ]
  },
  {
   "cell_type": "code",
   "execution_count": null,
   "metadata": {},
   "outputs": [],
   "source": []
  },
  {
   "cell_type": "code",
   "execution_count": null,
   "metadata": {},
   "outputs": [],
   "source": []
  }
 ],
 "metadata": {
  "kernelspec": {
   "display_name": "Python 3",
   "language": "python",
   "name": "python3"
  },
  "language_info": {
   "codemirror_mode": {
    "name": "ipython",
    "version": 3
   },
   "file_extension": ".py",
   "mimetype": "text/x-python",
   "name": "python",
   "nbconvert_exporter": "python",
   "pygments_lexer": "ipython3",
   "version": "3.7.7"
  }
 },
 "nbformat": 4,
 "nbformat_minor": 4
}
